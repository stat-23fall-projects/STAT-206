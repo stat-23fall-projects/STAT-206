{
 "cells": [
  {
   "cell_type": "markdown",
   "metadata": {
    "tags": [
     "header"
    ]
   },
   "source": [
    "# STA 220 Final Project\n",
    "\n",
    "Hongyi Deng, Chengkai Shi"
   ]
  },
  {
   "cell_type": "code",
   "execution_count": 95,
   "metadata": {},
   "outputs": [],
   "source": [
    "import numpy as np\n",
    "import pandas as pd\n",
    "import requests\n",
    "import lxml.html as lx\n",
    "import re\n",
    "import time\n",
    "import json\n",
    "import nltk\n",
    "from nltk.corpus import names\n",
    "from re import findall\n",
    "\n",
    "from sklearn.feature_extraction.text import CountVectorizer\n",
    "from nltk.classify import NaiveBayesClassifier\n",
    "from sklearn.model_selection import train_test_split\n",
    "from sklearn.naive_bayes import MultinomialNB\n",
    "from sklearn.pipeline import make_pipeline\n",
    "from nltk.classify.util import accuracy\n",
    "from sklearn.metrics import accuracy_score\n",
    "import matplotlib.pyplot as plt\n",
    "import warnings\n"
   ]
  },
  {
   "cell_type": "code",
   "execution_count": 6,
   "metadata": {},
   "outputs": [],
   "source": [
    "# use API to retrieve the urls (already convered in the interactive map)\n",
    "\n",
    "# api_key='j8Q2sqYK3mLSJxATCqSUyvMUxfRHURDoIMdRJ6V-G8WohBcs9hEsXa1kHeLbOyZCwvFRGvOVlSUdQLHQVUu1OMKKFTAS6sRTQh6syLSP0UHSwxj4yNrduxWkOFPuZXYx'\n",
    "# headers={'Authorization': f'Bearer {api_key}',}\n",
    "# url='https://api.yelp.com/v3/businesses/search'\n",
    "# params={'term': 'Chinese',\n",
    "#         'location': 'Sacramento',\n",
    "#         'limit':15}\n",
    "\n",
    "# response=requests.get(url, headers=headers, params=params)\n",
    "# result=response.json()\n",
    "# urls=[]\n",
    "# for b in result['businesses']:\n",
    "#     urls.append(b['url'])\n",
    "# print(urls)"
   ]
  },
  {
   "cell_type": "markdown",
   "metadata": {},
   "source": [
    "### Scrap the reviews and ratings"
   ]
  },
  {
   "cell_type": "code",
   "execution_count": 8,
   "metadata": {},
   "outputs": [],
   "source": [
    "def ratings_reviews_onepage(url):\n",
    "    response=requests.get(url).text\n",
    "    html=lx.fromstring(response)\n",
    "    ratings_all=re.findall(r'aria-label=\"(\\d+(?:\\.\\d+)?) star rating\"',response)  \n",
    "    reviews_all=re.findall(r'(?<=en\">)(.*?)(?=</span>)', response)             \n",
    "    reviews=[re.sub('<br>','', r) for r in reviews_all]\n",
    "    if 'You Might Also Consider' in response:                                              \n",
    "        ratings=ratings_all[4:4+len(reviews)]\n",
    "    else:\n",
    "        ratings=ratings_all[2:2+len(reviews)]\n",
    "    return (ratings, reviews)        "
   ]
  },
  {
   "cell_type": "code",
   "execution_count": 9,
   "metadata": {},
   "outputs": [],
   "source": [
    "def ratings_reviews_all(url):\n",
    "    i=2; \n",
    "    ratings, reviews=ratings_reviews_onepage(url)\n",
    "    while i<=9:   \n",
    "        time.sleep(2.5)  \n",
    "        page_num=(i-1)*10\n",
    "        url_new=url+'&start='+str(page_num)\n",
    "        ra_i,re_i=ratings_reviews_onepage(url_new)\n",
    "        for ra in ra_i:\n",
    "            ratings.append(ra)    \n",
    "        for re in re_i:\n",
    "            reviews.append(re)\n",
    "        i=i+1\n",
    "    return (ratings, reviews)    "
   ]
  },
  {
   "cell_type": "code",
   "execution_count": 10,
   "metadata": {},
   "outputs": [],
   "source": [
    "# Retrieve all reviews+ratings of restaurants\n",
    "ratings_all=[]; reviews_all=[]\n",
    "for url in urls[0:5]:\n",
    "    time.sleep(1)\n",
    "    ratings, reviews=ratings_reviews_all(url)\n",
    "    ratings_all.append(ratings)\n",
    "    reviews_all.append(reviews)"
   ]
  },
  {
   "cell_type": "code",
   "execution_count": 21,
   "metadata": {
    "collapsed": true
   },
   "outputs": [
    {
     "name": "stdout",
     "output_type": "stream",
     "text": [
      "In Sac on business, wanted Chinese & SO SO happy we found this little gem!!Order & go, no inside seating but we didn't let that stop us!Staff super friendly and extremely fast with our order!  Food was steaming HOT & delicious  We will be back!!!\n",
      "['5', '3', '4', '5', '4', '5', '5', '1', '4', '4', '5', '5', '4', '5', '4', '5', '5', '5', '5', '3', '5', '5', '4', '4', '5', '5', '2', '2', '4', '5', '4', '5', '5', '5', '5', '5', '4', '4', '5', '5', '5', '5', '4', '5', '5', '5', '3', '5', '5', '5', '5', '4', '3', '3', '4', '5', '1', '1', '4', '5', '3', '5', '4', '4', '1', '5', '5', '1', '5', '5', '5', '5', '5', '3', '4', '5', '4', '5', '5', '4', '5', '5', '4', '5', '5', '4', '5', '5', '5', '5', '5', '5', '5', '5', '4', '1', '4', '5', '1', '5', '5', '5', '5', '1', '5', '5', '4', '2', '5', '5', '2', '5', '5', '5', '5', '1', '5', '2', '5', '5', '5', '4', '5', '5', '5', '5', '5', '1', '5', '5', '5', '1', '5', '5', '5', '5', '5', '5', '4', '5', '5', '5', '5', '5', '5', '5', '4', '5', '5', '5', '3', '5', '5', '5', '5', '5', '2', '5', '5', '4', '4', '4', '1', '3', '4', '5', '5', '5', '5', '1', '5', '2', '5', '5', '5', '5', '5', '5', '5', '5', '4', '5', '3', '5', '5', '5', '5', '5', '1', '5', '3', '5', '1', '3', '2', '5', '1', '5', '4', '5', '1', '4', '1', '5', '5', '4', '5', '5', '5', '3', '3', '4', '4', '5', '3', '1', '5', '3', '1', '5', '5', '1', '4', '1', '4', '1', '5', '5', '1', '5', '1', '4', '1', '5', '1', '5', '1', '1', '5', '1', '4', '5', '5', '2', '3', '1', '4', '2', '2', '4', '5', '1', '2', '5', '4', '5', '5', '5', '2', '5', '5', '4', '3', '5', '3', '5', '1', '5', '1', '5', '5', '5', '3', '3', '5', '1', '5', '5', '1', '3', '5', '1', '4', '1', '5', '5', '5', '4', '4', '4', '5', '4', '4', '5', '5', '5', '5', '4', '4', '4', '4', '5', '4', '5', '2', '5', '4', '4', '3', '4', '4', '3', '5', '5', '5', '5', '4', '3', '5', '5', '5', '3', '5', '4', '4', '5', '4', '5', '3', '5', '4', '4', '4', '4', '2', '2', '4', '1', '3', '5', '5', '4', '4', '5', '4', '4', '5', '3', '4', '4', '5', '5', '3', '5', '4', '3', '5', '4', '5', '5', '4', '4', '3', '5', '5', '4', '2', '4', '2', '5', '5', '1', '2', '3', '4', '4', '5', '5', '1', '5', '4', '1', '2', '1', '4', '1', '4', '5', '5', '4', '4', '4', '4', '4', '5', '4', '4', '4', '4', '5', '5', '5', '5', '4', '5', '5', '5', '4', '4', '5', '4', '5', '3', '4', '4', '5', '4', '5', '4', '4', '5', '5', '3', '3', '4', '4', '4', '4', '5', '5', '5', '5', '5', '2', '3', '4', '5', '4', '2', '5', '5', '4', '5', '4', '5', '5', '5', '5', '5', '5', '4', '4', '5', '4', '5', '5', '3', '5', '1', '4', '4', '4', '5', '4', '5', '1', '5', '5', '1', '5', '5', '5']\n"
     ]
    },
    {
     "data": {
      "text/plain": [
       "472"
      ]
     },
     "execution_count": 21,
     "metadata": {},
     "output_type": "execute_result"
    }
   ],
   "source": [
    "ratings_all2=[i for sublist in ratings_all for i in sublist]\n",
    "reviews_all2=[i for sublist in reviews_all for i in sublist]  \n",
    "print(reviews_all2[0])\n",
    "print(ratings_all2)\n",
    "len(reviews_all2)"
   ]
  },
  {
   "cell_type": "markdown",
   "metadata": {},
   "source": [
    "### Organize the text we get"
   ]
  },
  {
   "cell_type": "code",
   "execution_count": 132,
   "metadata": {},
   "outputs": [],
   "source": [
    "# Obtain the text+label\n",
    "ratings_01=[int(i) for i in ratings_all2]\n",
    "for i in range(len(ratings_01)):\n",
    "    if ratings_01[i]>=3:\n",
    "        ratings_01[i]='positive'\n",
    "    else:\n",
    "        ratings_01[i]='negtive'\n",
    "\n",
    "re_ra=[(reviews_all2[i].lower(),ratings_01[i]) for i in range(len(reviews_all2))]\n",
    "texts, labels = zip(*re_ra)"
   ]
  },
  {
   "cell_type": "code",
   "execution_count": 137,
   "metadata": {},
   "outputs": [
    {
     "name": "stderr",
     "output_type": "stream",
     "text": [
      "[nltk_data] Downloading package stopwords to\n",
      "[nltk_data]     C:\\Users\\hp\\AppData\\Roaming\\nltk_data...\n",
      "[nltk_data]   Package stopwords is already up-to-date!\n"
     ]
    }
   ],
   "source": [
    "# remove the stop words\n",
    "nltk.download('stopwords')\n",
    "from nltk.corpus import stopwords\n",
    "stop_words=set(stopwords.words('english'))\n",
    "\n",
    "def remove_stop_words(text):\n",
    "    word_tokens=text.split()\n",
    "    filtered_text=[word for word in word_tokens if word.lower() not in stop_words]\n",
    "    return ' '.join(filtered_text)\n",
    "\n",
    "texts=[remove_stop_words(text) for text in texts]"
   ]
  },
  {
   "cell_type": "markdown",
   "metadata": {},
   "source": [
    "### Tokenizers"
   ]
  },
  {
   "cell_type": "code",
   "execution_count": 179,
   "metadata": {},
   "outputs": [],
   "source": [
    "# Functions for 8 kinds of tokenizers\n",
    "def bow(text):\n",
    "    return text.split()\n",
    "\n",
    "def bigram(text):\n",
    "    words=text.split()\n",
    "    return [' '.join(words[i:i+2]) for i in range(len(words)-1)]\n",
    "\n",
    "def trigram(text):\n",
    "    words=text.split()\n",
    "    return [' '.join(words[i:i+3]) for i in range(len(words)-2)]\n",
    "\n",
    "def fourgram(text):\n",
    "    words=text.split()\n",
    "    return [' '.join(words[i:i+4]) for i in range(len(words)-3)]\n",
    "\n",
    "def fivegram(text):\n",
    "    words=text.split()\n",
    "    return [' '.join(words[i:i+5]) for i in range(len(words)-4)]\n",
    "\n",
    "def sixgram(text):\n",
    "    words=text.split()\n",
    "    return [' '.join(words[i:i+6]) for i in range(len(words)-5)]\n",
    "\n",
    "def sevengram(text):\n",
    "    words=text.split()\n",
    "    return [' '.join(words[i:i+7]) for i in range(len(words)-6)]\n",
    "\n",
    "def eightgram(text):\n",
    "    words=text.split()\n",
    "    return [' '.join(words[i:i+8]) for i in range(len(words)-7)]\n",
    "\n",
    "def ninegram(text):\n",
    "    words=text.split()\n",
    "    return [' '.join(words[i:i+9]) for i in range(len(words)-8)]\n",
    "\n",
    "def fifteengram(text):\n",
    "    words=text.split()\n",
    "    return [' '.join(words[i:i+15]) for i in range(len(words)-14)]\n",
    "\n",
    "def thirtygram(text):\n",
    "    words=text.split()\n",
    "    return [' '.join(words[i:i+30]) for i in range(len(words)-29)]\n",
    "\n",
    "def sixtygram(text):\n",
    "    words=text.split()\n",
    "    return [' '.join(words[i:i+60]) for i in range(len(words)-59)]\n",
    "\n",
    "def hundgram(text):\n",
    "    words=text.split()\n",
    "    return [' '.join(words[i:i+150]) for i in range(len(words)-149)]\n",
    "\n",
    "def fhundgram(text):\n",
    "    words=text.split()\n",
    "    return [' '.join(words[i:i+400]) for i in range(len(words)-399)]"
   ]
  },
  {
   "cell_type": "markdown",
   "metadata": {},
   "source": [
    "### Accuracy"
   ]
  },
  {
   "cell_type": "code",
   "execution_count": 180,
   "metadata": {},
   "outputs": [],
   "source": [
    "# a function to train NaiveBayes classifier and calculate accuracy\n",
    "def naive_bayes(tokenization_method, texts, labels):\n",
    "    if tokenization_method==\"bow\":\n",
    "        vectorizer = CountVectorizer()\n",
    "    else:\n",
    "        vectorizer = CountVectorizer(tokenizer=tokenization_method, analyzer='word')\n",
    "   \n",
    "    X=vectorizer.fit_transform(texts)\n",
    "    X_train, X_test, y_train, y_test = train_test_split(X, labels, test_size=0.3, random_state=42)\n",
    "    \n",
    "    # Train the NaiveBayes classifier\n",
    "    modelNB=MultinomialNB()\n",
    "    modelNB.fit(X_train, y_train)\n",
    "    \n",
    "    # Make predictions and compute accuracy\n",
    "    y_pred=modelNB.predict(X_test)\n",
    "    accuracy=accuracy_score(y_test, y_pred)\n",
    "    return accuracy"
   ]
  },
  {
   "cell_type": "code",
   "execution_count": 181,
   "metadata": {
    "collapsed": true
   },
   "outputs": [
    {
     "data": {
      "text/plain": [
       "Text(0, 0.5, 'Accuracy')"
      ]
     },
     "execution_count": 181,
     "metadata": {},
     "output_type": "execute_result"
    },
    {
     "data": {
      "image/png": "[encoded data removed]",
      "text/plain": [
       "<Figure size 640x480 with 1 Axes>"
      ]
     },
     "metadata": {},
     "output_type": "display_data"
    }
   ],
   "source": [
    "# Train and evaluate classifier for each tokenization method\n",
    "\n",
    "a1=naive_bayes(\"bow\", texts, labels); a2=naive_bayes(bigram,texts,labels); a3=naive_bayes(trigram,texts,labels); \n",
    "a4=naive_bayes(fourgram,texts,labels); a5=naive_bayes(fivegram,texts,labels); a6=naive_bayes(sixgram,texts,labels);\n",
    "a7=naive_bayes(sevengram,texts,labels); a8=naive_bayes(eightgram,texts,labels); a9=naive_bayes(ninegram,texts,labels)\n",
    "a15=naive_bayes(fifteengram,texts,labels); a30=naive_bayes(thirtygram,texts,labels); a60=naive_bayes(sixtygram,texts,labels)\n",
    "a150=naive_bayes(hundgram,texts,labels); a400=naive_bayes(fhundgram,texts,labels)\n",
    "a_vec=[a1,a2,a3,a4,a5,a6,a7,a8,a9,a15,a30,a60,a150,a400]\n",
    "a_vec=[round(i,2) for i in a_vec]\n",
    "warnings.filterwarnings('ignore')\n",
    "x_axis=['1','2','3','4','5','6','7','8','9','15','30','60','150','400']\n",
    "plt.plot(x_axis,a_vec,marker='o')\n",
    "for i, accuracy in enumerate(a_vec):\n",
    "    plt.text(i+0.3,accuracy, str(accuracy), va='center')\n",
    "plt.xlabel(\"N-grams\"); plt.ylabel(\"Accuracy\")"
   ]
  },
  {
   "cell_type": "markdown",
   "metadata": {},
   "source": [
    "### The top features"
   ]
  },
  {
   "cell_type": "code",
   "execution_count": 182,
   "metadata": {},
   "outputs": [],
   "source": [
    "# Get top 10 features of each tokenizer\n",
    "def get_important_features(tokenization_method, texts, labels):\n",
    "    if tokenization_method==\"bow\":\n",
    "        vectorizer=CountVectorizer()\n",
    "    else :\n",
    "        vectorizer=CountVectorizer(tokenizer=tokenization_method, analyzer='word')\n",
    "    \n",
    "    X=vectorizer.fit_transform(texts)\n",
    "    modelNB= MultinomialNB()\n",
    "    modelNB.fit(X, labels)\n",
    "    feature_names=vectorizer.get_feature_names_out()\n",
    "    class_log_probabilities=modelNB.feature_log_prob_    # Consider log prob as the importance\n",
    "    \n",
    "    top_features_indices=class_log_probabilities[1].argsort()[-10:][::-1]\n",
    "    top_features=[(feature_names[i], class_log_probabilities[1][i]) for i in top_features_indices]\n",
    "    low_features_indices = class_log_probabilities[0].argsort()[-10:][::-1]\n",
    "    low_features = [(feature_names[i], class_log_probabilities[0][i]) for i in low_features_indices]\n",
    "    \n",
    "    return (top_features, low_features)"
   ]
  },
  {
   "cell_type": "code",
   "execution_count": 183,
   "metadata": {},
   "outputs": [
    {
     "name": "stdout",
     "output_type": "stream",
     "text": [
      "[('food', -3.911761533338802), ('good', -4.337029268743146), ('chinese', -4.620276744127061), ('place', -4.679519577689922), ('rice', -4.703273663698029), ('chicken', -4.757608014661359), ('service', -4.899148186896687), ('great', -5.016931222553071), ('restaurant', -5.050379156620611), ('order', -5.064078000978773)]\n",
      "[('dim sum', -5.903394918059419), ('chinese food', -6.558801770636517), ('fried rice', -6.596542098619365), ('chow fun', -7.051278255734312), ('honey walnut', -7.051278255734312), ('rice noodle', -7.082049914401065), ('orange chicken', -7.215581307025587), ('come back', -7.2519489511964625), ('chinese food.', -7.28968927917931), ('chow mein', -7.28968927917931)]\n",
      "[('honey walnut shrimp', -7.964900523860596), ('beef chow fun', -8.119051203687855), ('best chinese food', -8.206062580677484), ('come back try', -8.206062580677484), ('dim sum place', -8.301372760481808), ('sweet & sour', -8.524516311796019), ('hot sour soup', -8.524516311796019), ('salt & pepper', -8.658047704420541), ('honey walnut shrimp,', -8.658047704420541), ('go back try', -8.658047704420541)]\n",
      "[('fujian pan fried rice', -8.985695694535707), ('baked bbq pork buns', -9.208839245849916), ('pan fried rice noodle', -9.208839245849916), ('steamed salted egg yolk', -9.208839245849916), ('steam golden shrimp rice', -9.208839245849916), ('chow mein, fried rice,', -9.208839245849916), ('fried rice chow mein', -9.208839245849916), ('mein, fried rice, egg', -9.208839245849916), ('bbq pork duck clay', -9.208839245849916), ('yue huang chow fun', -9.496521318301697)]\n"
     ]
    }
   ],
   "source": [
    "# Get top \"positive\" features of each tokenization method\n",
    "top_bow, low_bow=get_important_features(\"bow\",texts, labels)\n",
    "top_bigram, low_bigram=get_important_features(bigram,texts, labels)\n",
    "top_trigram, low_trigram=get_important_features(trigram,texts, labels)\n",
    "top_fourgram, low_fourgram=get_important_features(fourgram,texts, labels)\n",
    "warnings.filterwarnings('ignore')\n",
    "print(top_bow); print(top_bigram); print(top_trigram); print(top_fourgram)\n"
   ]
  },
  {
   "cell_type": "code",
   "execution_count": 184,
   "metadata": {},
   "outputs": [
    {
     "name": "stdout",
     "output_type": "stream",
     "text": [
      "[('food', -4.495652894748741), ('chicken', -5.075471390001683), ('restaurant', -5.286780483668889), ('good', -5.3791538037999045), ('order', -5.411943626622895), ('like', -5.411943626622895), ('one', -5.445845178298576), ('back', -5.4809364981098465), ('rice', -5.4809364981098465), ('time', -5.517304142280722)]\n",
      "[('fried rice', -7.612246957606297), ('dim sum', -7.707557137410622), ('chow mein', -7.812917653068448), ('chinese food', -7.930700688724832), ('orange chicken', -8.064232081349354), ('first time', -8.400704317970568), ('honey walnut', -8.400704317970568), ('food came', -8.400704317970568), ('chicken tasted', -8.623847869284777), ('white rice', -8.623847869284777)]\n",
      "[('dim sum place', -8.731739895504928), ('honey walnut shrimp', -9.01942196795671), ('ordered orange chicken', -9.01942196795671), ('rice much soy', -9.01942196795671), ('owner was, said', -9.01942196795671), ('chicken fried rice.', -9.01942196795671), ('restaurant new ownership.', -9.01942196795671), ('many chinese restaurants', -9.01942196795671), ('hot sour soup', -9.01942196795671), ('asked owner was,', -9.01942196795671)]\n",
      "[('asked owner was, said', -9.018614735106935), ('fried rice much soy', -9.018614735106935), ('roll good blow mind.the', -9.424079843215099), ('ripped got general batter.', -9.424079843215099), ('roast duck bun, scallion,', -9.424079843215099), ('roast duck instead. cheated', -9.424079843215099), ('roast duck, siu mai,', -9.424079843215099), ('roast duck. bet cost', -9.424079843215099), ('decor. carpet filthy. hot', -9.424079843215099), ('decor seemed like traditional', -9.424079843215099)]\n"
     ]
    }
   ],
   "source": [
    "# Get top \"negative\" features \n",
    "print(low_bow); print(low_bigram); print(low_trigram); print(low_fourgram)"
   ]
  },
  {
   "cell_type": "code",
   "execution_count": null,
   "metadata": {},
   "outputs": [],
   "source": []
  }
 ],
 "metadata": {
  "celltoolbar": "Tags",
  "kernelspec": {
   "display_name": "Python 3 (ipykernel)",
   "language": "python",
   "name": "python3"
  },
  "language_info": {
   "codemirror_mode": {
    "name": "ipython",
    "version": 3
   },
   "file_extension": ".py",
   "mimetype": "text/x-python",
   "name": "python",
   "nbconvert_exporter": "python",
   "pygments_lexer": "ipython3",
   "version": "3.11.4"
  }
 },
 "nbformat": 4,
 "nbformat_minor": 2
}
