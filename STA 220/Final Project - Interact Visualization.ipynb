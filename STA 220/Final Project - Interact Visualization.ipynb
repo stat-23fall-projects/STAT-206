{
 "cells": [
  {
   "cell_type": "code",
   "execution_count": 101,
   "id": "6279ccde",
   "metadata": {
    "ExecuteTime": {
     "end_time": "2024-03-20T08:54:00.184868Z",
     "start_time": "2024-03-20T08:54:00.181881Z"
    },
    "scrolled": true
   },
   "outputs": [],
   "source": [
    "import requests\n",
    "from bs4 import BeautifulSoup\n",
    "import re\n",
    "import time\n",
    "import pandas as pd\n",
    "from math import sqrt\n",
    "import warnings"
   ]
  },
  {
   "cell_type": "code",
   "execution_count": 6,
   "id": "ceb4a372",
   "metadata": {
    "ExecuteTime": {
     "end_time": "2024-03-20T06:21:08.259936Z",
     "start_time": "2024-03-20T06:21:08.256752Z"
    }
   },
   "outputs": [],
   "source": [
    "key1 = '6LgngVxBC_124fd8J9otcFIuQjOuZf4ruooOHRfpZXeLjxNQDeTq3HT1xbpzYlEXy2-qPos4qxQ4eoJPfiLdbFP15mRETfG-RJlT8egtQ5J3Efsa0udq8SrekEvuZXYx'\n",
    "key2 = 'oG72h4lS--zvB94kJVRJV1UvB_U5YqoecbcBw-6juM-3SbuXwaEdOuzToX5QHbrlmY09nLtOFCBCZ2-CcjNREGoymN1Ja_TtcP5lbpf8OZyEgG6gHcSyQwhbTfrvZXYx'\n",
    "key3 = 'to_0IwmkQRcu_g1Lz8UkHiPp_IjT9BVX4mFE1wAOuWtNaK41_hAeUgYMknwxyhPE8x52DAhNJKe-DaaK3dKeeebNnJhByuhjTtqA_hFRTSU2NovZyeTcXffv2f3vZXYx'"
   ]
  },
  {
   "cell_type": "markdown",
   "id": "12dfd27a",
   "metadata": {},
   "source": [
    "# Get Basic Information"
   ]
  },
  {
   "cell_type": "code",
   "execution_count": 8,
   "id": "5038e4b3",
   "metadata": {
    "ExecuteTime": {
     "end_time": "2024-03-20T06:21:35.656585Z",
     "start_time": "2024-03-20T06:21:21.769826Z"
    }
   },
   "outputs": [
    {
     "name": "stdout",
     "output_type": "stream",
     "text": [
      "50\n",
      "100\n",
      "150\n",
      "200\n",
      "250\n",
      "300\n",
      "350\n",
      "400\n",
      "450\n"
     ]
    }
   ],
   "source": [
    "api_search = 'https://api.yelp.com/v3/businesses/search'\n",
    "\n",
    "params_search = {\n",
    "    \"location\": \"Sacramento, CA\",\n",
    "    \"term\":\"Chinese\",\n",
    "    \"limit\":50,\n",
    "    \"offset\":0\n",
    "}\n",
    "\n",
    "headers = {\n",
    "    'Authorization': f'Bearer {key1}'\n",
    "}\n",
    "\n",
    "all_results = []\n",
    "while True:\n",
    "    time.sleep(0.2)\n",
    "    response = requests.get(api_search, params=params_search, headers=headers)\n",
    "    if response.status_code == 200:\n",
    "        data = response.json()\n",
    "        businesses = data.get(\"businesses\", [])\n",
    "        all_results.extend(businesses)\n",
    "    \n",
    "        if len(businesses) < 49:  # 如果返回的结果少于请求的限制，则说明已经获取了所有结果\n",
    "            break\n",
    "    \n",
    "        params_search[\"offset\"] += 50  # 增加offset以获取下一页的结果\n",
    "        print(params_search[\"offset\"])\n",
    "        \n",
    "    elif response.status_code == 413:\n",
    "        print(\"You have either exceeded your daily quota.\")"
   ]
  },
  {
   "cell_type": "code",
   "execution_count": 620,
   "id": "9d8a3804",
   "metadata": {
    "ExecuteTime": {
     "end_time": "2024-03-21T07:19:24.021222Z",
     "start_time": "2024-03-21T07:19:23.897703Z"
    }
   },
   "outputs": [],
   "source": [
    "for i in range(len(all_results)):\n",
    "# for i in range(5):\n",
    "    all_results.loc[i, 'latitude'] = all_results['coordinates'][i]['latitude']\n",
    "    all_results.loc[i, 'longitude'] = all_results['coordinates'][i]['longitude']\n",
    "    address2 = all_results['location'][i]['address2']\n",
    "    if address2:\n",
    "        all_results.loc[i, 'address'] = all_results['location'][i]['address1'] + \" \" + all_results['location'][i]['address2'] + \" \" + \"Sacramento\"\n",
    "    else:\n",
    "        all_results.loc[i, 'address'] = all_results['location'][i]['address1'] + \" \" + \"Sacramento\"\n",
    "        \n",
    "    cate = []\n",
    "    n_type = len(all_results['categories'][i])\n",
    "    for j in range(n_type):\n",
    "        cate.append(all_results['categories'][i][j]['title'])\n",
    "#     print(cate)\n",
    "    all_results['category'][i] = cate\n",
    "    warnings.filterwarnings('ignore')"
   ]
  },
  {
   "cell_type": "code",
   "execution_count": 298,
   "id": "bce24318",
   "metadata": {
    "ExecuteTime": {
     "end_time": "2024-03-21T00:34:46.632160Z",
     "start_time": "2024-03-21T00:34:46.607315Z"
    }
   },
   "outputs": [
    {
     "data": {
      "text/html": [
       "<div>\n",
       "<style scoped>\n",
       "    .dataframe tbody tr th:only-of-type {\n",
       "        vertical-align: middle;\n",
       "    }\n",
       "\n",
       "    .dataframe tbody tr th {\n",
       "        vertical-align: top;\n",
       "    }\n",
       "\n",
       "    .dataframe thead th {\n",
       "        text-align: right;\n",
       "    }\n",
       "</style>\n",
       "<table border=\"1\" class=\"dataframe\">\n",
       "  <thead>\n",
       "    <tr style=\"text-align: right;\">\n",
       "      <th></th>\n",
       "      <th>id</th>\n",
       "      <th>alias</th>\n",
       "      <th>name</th>\n",
       "      <th>image_url</th>\n",
       "      <th>is_closed</th>\n",
       "      <th>url</th>\n",
       "      <th>review_count</th>\n",
       "      <th>categories</th>\n",
       "      <th>rating</th>\n",
       "      <th>coordinates</th>\n",
       "      <th>transactions</th>\n",
       "      <th>price</th>\n",
       "      <th>location</th>\n",
       "      <th>phone</th>\n",
       "      <th>display_phone</th>\n",
       "      <th>distance</th>\n",
       "      <th>latitude</th>\n",
       "      <th>longitude</th>\n",
       "      <th>address</th>\n",
       "      <th>category</th>\n",
       "    </tr>\n",
       "  </thead>\n",
       "  <tbody>\n",
       "    <tr>\n",
       "      <th>0</th>\n",
       "      <td>uTqmKshAoHYHISPE7n6bNQ</td>\n",
       "      <td>fortune-chinese-food-sacramento-2</td>\n",
       "      <td>Fortune Chinese Food</td>\n",
       "      <td>https://s3-media3.fl.yelpcdn.com/bphoto/7hq15-...</td>\n",
       "      <td>False</td>\n",
       "      <td>https://www.yelp.com/biz/fortune-chinese-food-...</td>\n",
       "      <td>455</td>\n",
       "      <td>[{'alias': 'chinese', 'title': 'Chinese'}]</td>\n",
       "      <td>4.4</td>\n",
       "      <td>{'latitude': 38.5414479054582, 'longitude': -1...</td>\n",
       "      <td>[delivery, pickup]</td>\n",
       "      <td>$$</td>\n",
       "      <td>{'address1': '2805 12th Ave', 'address2': 'Ste...</td>\n",
       "      <td>+19164526628</td>\n",
       "      <td>(916) 452-6628</td>\n",
       "      <td>4455.184436</td>\n",
       "      <td>38.541448</td>\n",
       "      <td>-121.474960</td>\n",
       "      <td>2805 12th Ave Ste 4 Sacramento</td>\n",
       "      <td>[Chinese]</td>\n",
       "    </tr>\n",
       "    <tr>\n",
       "      <th>1</th>\n",
       "      <td>-DjZjrHcelHAvMKkUHNALA</td>\n",
       "      <td>jade-garden-sacramento-2</td>\n",
       "      <td>Jade Garden</td>\n",
       "      <td>https://s3-media1.fl.yelpcdn.com/bphoto/4t_4ws...</td>\n",
       "      <td>False</td>\n",
       "      <td>https://www.yelp.com/biz/jade-garden-sacrament...</td>\n",
       "      <td>97</td>\n",
       "      <td>[{'alias': 'chinese', 'title': 'Chinese'}]</td>\n",
       "      <td>4.3</td>\n",
       "      <td>{'latitude': 38.54817391261898, 'longitude': -...</td>\n",
       "      <td>[]</td>\n",
       "      <td>$$</td>\n",
       "      <td>{'address1': '9185 Kiefer Blvd', 'address2': N...</td>\n",
       "      <td>+19163621771</td>\n",
       "      <td>(916) 362-1771</td>\n",
       "      <td>7839.281708</td>\n",
       "      <td>38.548174</td>\n",
       "      <td>-121.358335</td>\n",
       "      <td>9185 Kiefer Blvd Sacramento</td>\n",
       "      <td>[Chinese]</td>\n",
       "    </tr>\n",
       "    <tr>\n",
       "      <th>2</th>\n",
       "      <td>awbNonET06fRkvg6ERysTA</td>\n",
       "      <td>journey-to-the-dumpling-midtown-sacramento</td>\n",
       "      <td>Journey to the Dumpling - Midtown</td>\n",
       "      <td>https://s3-media3.fl.yelpcdn.com/bphoto/tBLIQA...</td>\n",
       "      <td>False</td>\n",
       "      <td>https://www.yelp.com/biz/journey-to-the-dumpli...</td>\n",
       "      <td>265</td>\n",
       "      <td>[{'alias': 'chinese', 'title': 'Chinese'}, {'a...</td>\n",
       "      <td>4.3</td>\n",
       "      <td>{'latitude': 38.56845, 'longitude': -121.48219}</td>\n",
       "      <td>[restaurant_reservation]</td>\n",
       "      <td>$$</td>\n",
       "      <td>{'address1': '1700 21st St', 'address2': '', '...</td>\n",
       "      <td>+19168224473</td>\n",
       "      <td>(916) 822-4473</td>\n",
       "      <td>3456.852387</td>\n",
       "      <td>38.568450</td>\n",
       "      <td>-121.482190</td>\n",
       "      <td>1700 21st St Sacramento</td>\n",
       "      <td>[Chinese, Noodles, Soup]</td>\n",
       "    </tr>\n",
       "    <tr>\n",
       "      <th>3</th>\n",
       "      <td>uSh45fmNiQz7x4l-zF0ixA</td>\n",
       "      <td>t-and-z-chinese-restaurant-sacramento</td>\n",
       "      <td>T &amp; Z Chinese Restaurant</td>\n",
       "      <td>https://s3-media4.fl.yelpcdn.com/bphoto/jKt5a-...</td>\n",
       "      <td>False</td>\n",
       "      <td>https://www.yelp.com/biz/t-and-z-chinese-resta...</td>\n",
       "      <td>551</td>\n",
       "      <td>[{'alias': 'chinese', 'title': 'Chinese'}]</td>\n",
       "      <td>4.4</td>\n",
       "      <td>{'latitude': 38.6129471144324, 'longitude': -1...</td>\n",
       "      <td>[delivery, pickup]</td>\n",
       "      <td>$$</td>\n",
       "      <td>{'address1': '2550 W El Camino Ave', 'address2...</td>\n",
       "      <td>+19166491514</td>\n",
       "      <td>(916) 649-1514</td>\n",
       "      <td>8019.202014</td>\n",
       "      <td>38.612947</td>\n",
       "      <td>-121.519422</td>\n",
       "      <td>2550 W El Camino Ave Ste 8 Sacramento</td>\n",
       "      <td>[Chinese]</td>\n",
       "    </tr>\n",
       "    <tr>\n",
       "      <th>4</th>\n",
       "      <td>tjBXGjWKllYhy8DHPhI-0Q</td>\n",
       "      <td>yue-huang-sacramento-2</td>\n",
       "      <td>Yue Huang</td>\n",
       "      <td>https://s3-media2.fl.yelpcdn.com/bphoto/xsiH7T...</td>\n",
       "      <td>False</td>\n",
       "      <td>https://www.yelp.com/biz/yue-huang-sacramento-...</td>\n",
       "      <td>1174</td>\n",
       "      <td>[{'alias': 'seafood', 'title': 'Seafood'}, {'a...</td>\n",
       "      <td>3.6</td>\n",
       "      <td>{'latitude': 38.6384473758722, 'longitude': -1...</td>\n",
       "      <td>[delivery, pickup]</td>\n",
       "      <td>$$</td>\n",
       "      <td>{'address1': '3860 Truxel Rd', 'address2': '',...</td>\n",
       "      <td>+19166213737</td>\n",
       "      <td>(916) 621-3737</td>\n",
       "      <td>9030.219261</td>\n",
       "      <td>38.638447</td>\n",
       "      <td>-121.503844</td>\n",
       "      <td>3860 Truxel Rd Sacramento</td>\n",
       "      <td>[Seafood, Cantonese, Dim Sum]</td>\n",
       "    </tr>\n",
       "  </tbody>\n",
       "</table>\n",
       "</div>"
      ],
      "text/plain": [
       "                       id                                       alias  \\\n",
       "0  uTqmKshAoHYHISPE7n6bNQ           fortune-chinese-food-sacramento-2   \n",
       "1  -DjZjrHcelHAvMKkUHNALA                    jade-garden-sacramento-2   \n",
       "2  awbNonET06fRkvg6ERysTA  journey-to-the-dumpling-midtown-sacramento   \n",
       "3  uSh45fmNiQz7x4l-zF0ixA       t-and-z-chinese-restaurant-sacramento   \n",
       "4  tjBXGjWKllYhy8DHPhI-0Q                      yue-huang-sacramento-2   \n",
       "\n",
       "                                name  \\\n",
       "0               Fortune Chinese Food   \n",
       "1                        Jade Garden   \n",
       "2  Journey to the Dumpling - Midtown   \n",
       "3           T & Z Chinese Restaurant   \n",
       "4                          Yue Huang   \n",
       "\n",
       "                                           image_url  is_closed  \\\n",
       "0  https://s3-media3.fl.yelpcdn.com/bphoto/7hq15-...      False   \n",
       "1  https://s3-media1.fl.yelpcdn.com/bphoto/4t_4ws...      False   \n",
       "2  https://s3-media3.fl.yelpcdn.com/bphoto/tBLIQA...      False   \n",
       "3  https://s3-media4.fl.yelpcdn.com/bphoto/jKt5a-...      False   \n",
       "4  https://s3-media2.fl.yelpcdn.com/bphoto/xsiH7T...      False   \n",
       "\n",
       "                                                 url  review_count  \\\n",
       "0  https://www.yelp.com/biz/fortune-chinese-food-...           455   \n",
       "1  https://www.yelp.com/biz/jade-garden-sacrament...            97   \n",
       "2  https://www.yelp.com/biz/journey-to-the-dumpli...           265   \n",
       "3  https://www.yelp.com/biz/t-and-z-chinese-resta...           551   \n",
       "4  https://www.yelp.com/biz/yue-huang-sacramento-...          1174   \n",
       "\n",
       "                                          categories  rating  \\\n",
       "0         [{'alias': 'chinese', 'title': 'Chinese'}]     4.4   \n",
       "1         [{'alias': 'chinese', 'title': 'Chinese'}]     4.3   \n",
       "2  [{'alias': 'chinese', 'title': 'Chinese'}, {'a...     4.3   \n",
       "3         [{'alias': 'chinese', 'title': 'Chinese'}]     4.4   \n",
       "4  [{'alias': 'seafood', 'title': 'Seafood'}, {'a...     3.6   \n",
       "\n",
       "                                         coordinates  \\\n",
       "0  {'latitude': 38.5414479054582, 'longitude': -1...   \n",
       "1  {'latitude': 38.54817391261898, 'longitude': -...   \n",
       "2    {'latitude': 38.56845, 'longitude': -121.48219}   \n",
       "3  {'latitude': 38.6129471144324, 'longitude': -1...   \n",
       "4  {'latitude': 38.6384473758722, 'longitude': -1...   \n",
       "\n",
       "               transactions price  \\\n",
       "0        [delivery, pickup]    $$   \n",
       "1                        []    $$   \n",
       "2  [restaurant_reservation]    $$   \n",
       "3        [delivery, pickup]    $$   \n",
       "4        [delivery, pickup]    $$   \n",
       "\n",
       "                                            location         phone  \\\n",
       "0  {'address1': '2805 12th Ave', 'address2': 'Ste...  +19164526628   \n",
       "1  {'address1': '9185 Kiefer Blvd', 'address2': N...  +19163621771   \n",
       "2  {'address1': '1700 21st St', 'address2': '', '...  +19168224473   \n",
       "3  {'address1': '2550 W El Camino Ave', 'address2...  +19166491514   \n",
       "4  {'address1': '3860 Truxel Rd', 'address2': '',...  +19166213737   \n",
       "\n",
       "    display_phone     distance   latitude   longitude  \\\n",
       "0  (916) 452-6628  4455.184436  38.541448 -121.474960   \n",
       "1  (916) 362-1771  7839.281708  38.548174 -121.358335   \n",
       "2  (916) 822-4473  3456.852387  38.568450 -121.482190   \n",
       "3  (916) 649-1514  8019.202014  38.612947 -121.519422   \n",
       "4  (916) 621-3737  9030.219261  38.638447 -121.503844   \n",
       "\n",
       "                                 address                       category  \n",
       "0         2805 12th Ave Ste 4 Sacramento                      [Chinese]  \n",
       "1            9185 Kiefer Blvd Sacramento                      [Chinese]  \n",
       "2                1700 21st St Sacramento       [Chinese, Noodles, Soup]  \n",
       "3  2550 W El Camino Ave Ste 8 Sacramento                      [Chinese]  \n",
       "4              3860 Truxel Rd Sacramento  [Seafood, Cantonese, Dim Sum]  "
      ]
     },
     "execution_count": 298,
     "metadata": {},
     "output_type": "execute_result"
    }
   ],
   "source": [
    "all_results.head()"
   ]
  },
  {
   "cell_type": "code",
   "execution_count": 523,
   "id": "5e59e37b",
   "metadata": {
    "ExecuteTime": {
     "end_time": "2024-03-21T04:02:41.935813Z",
     "start_time": "2024-03-21T04:02:41.929033Z"
    }
   },
   "outputs": [],
   "source": [
    "all_categories = []\n",
    "for i in all_results['categories']:\n",
    "    n_type = len(i)\n",
    "    for j in range(n_type):\n",
    "        all_categories.append(i[j]['title'])\n",
    "all_categories = set(all_categories)\n",
    "categories = []\n",
    "for i in all_categories:\n",
    "    categories.append(i)\n",
    "# categories"
   ]
  },
  {
   "cell_type": "code",
   "execution_count": 607,
   "id": "32f71f85",
   "metadata": {
    "ExecuteTime": {
     "end_time": "2024-03-21T04:24:45.053425Z",
     "start_time": "2024-03-21T04:24:45.033354Z"
    },
    "scrolled": true
   },
   "outputs": [
    {
     "data": {
      "text/html": [
       "<div>\n",
       "<style scoped>\n",
       "    .dataframe tbody tr th:only-of-type {\n",
       "        vertical-align: middle;\n",
       "    }\n",
       "\n",
       "    .dataframe tbody tr th {\n",
       "        vertical-align: top;\n",
       "    }\n",
       "\n",
       "    .dataframe thead th {\n",
       "        text-align: right;\n",
       "    }\n",
       "</style>\n",
       "<table border=\"1\" class=\"dataframe\">\n",
       "  <thead>\n",
       "    <tr style=\"text-align: right;\">\n",
       "      <th></th>\n",
       "      <th>name</th>\n",
       "      <th>id</th>\n",
       "      <th>review_count</th>\n",
       "      <th>rating</th>\n",
       "      <th>latitude</th>\n",
       "      <th>longitude</th>\n",
       "      <th>address</th>\n",
       "      <th>category</th>\n",
       "    </tr>\n",
       "  </thead>\n",
       "  <tbody>\n",
       "    <tr>\n",
       "      <th>0</th>\n",
       "      <td>Fortune Chinese Food</td>\n",
       "      <td>uTqmKshAoHYHISPE7n6bNQ</td>\n",
       "      <td>455</td>\n",
       "      <td>4.4</td>\n",
       "      <td>38.541448</td>\n",
       "      <td>-121.474960</td>\n",
       "      <td>2805 12th Ave Ste 4 Sacramento</td>\n",
       "      <td>[Chinese]</td>\n",
       "    </tr>\n",
       "    <tr>\n",
       "      <th>1</th>\n",
       "      <td>Jade Garden</td>\n",
       "      <td>-DjZjrHcelHAvMKkUHNALA</td>\n",
       "      <td>97</td>\n",
       "      <td>4.3</td>\n",
       "      <td>38.548174</td>\n",
       "      <td>-121.358335</td>\n",
       "      <td>9185 Kiefer Blvd Sacramento</td>\n",
       "      <td>[Chinese]</td>\n",
       "    </tr>\n",
       "    <tr>\n",
       "      <th>2</th>\n",
       "      <td>Journey to the Dumpling - Midtown</td>\n",
       "      <td>awbNonET06fRkvg6ERysTA</td>\n",
       "      <td>265</td>\n",
       "      <td>4.3</td>\n",
       "      <td>38.568450</td>\n",
       "      <td>-121.482190</td>\n",
       "      <td>1700 21st St Sacramento</td>\n",
       "      <td>[Chinese, Noodles, Soup]</td>\n",
       "    </tr>\n",
       "    <tr>\n",
       "      <th>3</th>\n",
       "      <td>T &amp; Z Chinese Restaurant</td>\n",
       "      <td>uSh45fmNiQz7x4l-zF0ixA</td>\n",
       "      <td>551</td>\n",
       "      <td>4.4</td>\n",
       "      <td>38.612947</td>\n",
       "      <td>-121.519422</td>\n",
       "      <td>2550 W El Camino Ave Ste 8 Sacramento</td>\n",
       "      <td>[Chinese]</td>\n",
       "    </tr>\n",
       "    <tr>\n",
       "      <th>4</th>\n",
       "      <td>Yue Huang</td>\n",
       "      <td>tjBXGjWKllYhy8DHPhI-0Q</td>\n",
       "      <td>1174</td>\n",
       "      <td>3.6</td>\n",
       "      <td>38.638447</td>\n",
       "      <td>-121.503844</td>\n",
       "      <td>3860 Truxel Rd Sacramento</td>\n",
       "      <td>[Seafood, Cantonese, Dim Sum]</td>\n",
       "    </tr>\n",
       "    <tr>\n",
       "      <th>...</th>\n",
       "      <td>...</td>\n",
       "      <td>...</td>\n",
       "      <td>...</td>\n",
       "      <td>...</td>\n",
       "      <td>...</td>\n",
       "      <td>...</td>\n",
       "      <td>...</td>\n",
       "      <td>...</td>\n",
       "    </tr>\n",
       "    <tr>\n",
       "      <th>491</th>\n",
       "      <td>Olive Garden Italian Restaurant</td>\n",
       "      <td>cMACJTd-jI596Fn9xixkxQ</td>\n",
       "      <td>486</td>\n",
       "      <td>2.9</td>\n",
       "      <td>38.666110</td>\n",
       "      <td>-121.272606</td>\n",
       "      <td>5445 Sunrise Blvd Sacramento</td>\n",
       "      <td>[Italian, Salad, Soup]</td>\n",
       "    </tr>\n",
       "    <tr>\n",
       "      <th>492</th>\n",
       "      <td>Preethi Indian Cuisine</td>\n",
       "      <td>ENmi2GlUjrm8A5nKTv-czA</td>\n",
       "      <td>372</td>\n",
       "      <td>3.7</td>\n",
       "      <td>38.543662</td>\n",
       "      <td>-121.739428</td>\n",
       "      <td>715 2nd St Sacramento</td>\n",
       "      <td>[Indian, Vegan, Soup]</td>\n",
       "    </tr>\n",
       "    <tr>\n",
       "      <th>493</th>\n",
       "      <td>Olive Garden Italian Restaurant</td>\n",
       "      <td>5iXkCdDM1IlWWTVWSwdO3w</td>\n",
       "      <td>498</td>\n",
       "      <td>3.4</td>\n",
       "      <td>38.770871</td>\n",
       "      <td>-121.265159</td>\n",
       "      <td>1160 Galleria Blvd Sacramento</td>\n",
       "      <td>[Italian, Salad, Soup]</td>\n",
       "    </tr>\n",
       "    <tr>\n",
       "      <th>494</th>\n",
       "      <td>Panera Bread</td>\n",
       "      <td>lQErN-2_H0PcNJIfOxCtlA</td>\n",
       "      <td>404</td>\n",
       "      <td>3.1</td>\n",
       "      <td>38.424826</td>\n",
       "      <td>-121.387587</td>\n",
       "      <td>8519 Bond Rd Ste 106 Sacramento</td>\n",
       "      <td>[Sandwiches, Salad, Soup]</td>\n",
       "    </tr>\n",
       "    <tr>\n",
       "      <th>495</th>\n",
       "      <td>Ruby Thai Kitchen</td>\n",
       "      <td>TUm7yOEhoUydeQGpikdxpQ</td>\n",
       "      <td>89</td>\n",
       "      <td>2.2</td>\n",
       "      <td>38.773442</td>\n",
       "      <td>-121.269285</td>\n",
       "      <td>1151 Galleria Blvd Sacramento</td>\n",
       "      <td>[Thai]</td>\n",
       "    </tr>\n",
       "  </tbody>\n",
       "</table>\n",
       "<p>496 rows × 8 columns</p>\n",
       "</div>"
      ],
      "text/plain": [
       "                                  name                      id  review_count  \\\n",
       "0                 Fortune Chinese Food  uTqmKshAoHYHISPE7n6bNQ           455   \n",
       "1                          Jade Garden  -DjZjrHcelHAvMKkUHNALA            97   \n",
       "2    Journey to the Dumpling - Midtown  awbNonET06fRkvg6ERysTA           265   \n",
       "3             T & Z Chinese Restaurant  uSh45fmNiQz7x4l-zF0ixA           551   \n",
       "4                            Yue Huang  tjBXGjWKllYhy8DHPhI-0Q          1174   \n",
       "..                                 ...                     ...           ...   \n",
       "491    Olive Garden Italian Restaurant  cMACJTd-jI596Fn9xixkxQ           486   \n",
       "492             Preethi Indian Cuisine  ENmi2GlUjrm8A5nKTv-czA           372   \n",
       "493    Olive Garden Italian Restaurant  5iXkCdDM1IlWWTVWSwdO3w           498   \n",
       "494                       Panera Bread  lQErN-2_H0PcNJIfOxCtlA           404   \n",
       "495                  Ruby Thai Kitchen  TUm7yOEhoUydeQGpikdxpQ            89   \n",
       "\n",
       "     rating   latitude   longitude                                address  \\\n",
       "0       4.4  38.541448 -121.474960         2805 12th Ave Ste 4 Sacramento   \n",
       "1       4.3  38.548174 -121.358335            9185 Kiefer Blvd Sacramento   \n",
       "2       4.3  38.568450 -121.482190                1700 21st St Sacramento   \n",
       "3       4.4  38.612947 -121.519422  2550 W El Camino Ave Ste 8 Sacramento   \n",
       "4       3.6  38.638447 -121.503844              3860 Truxel Rd Sacramento   \n",
       "..      ...        ...         ...                                    ...   \n",
       "491     2.9  38.666110 -121.272606           5445 Sunrise Blvd Sacramento   \n",
       "492     3.7  38.543662 -121.739428                  715 2nd St Sacramento   \n",
       "493     3.4  38.770871 -121.265159          1160 Galleria Blvd Sacramento   \n",
       "494     3.1  38.424826 -121.387587        8519 Bond Rd Ste 106 Sacramento   \n",
       "495     2.2  38.773442 -121.269285          1151 Galleria Blvd Sacramento   \n",
       "\n",
       "                          category  \n",
       "0                        [Chinese]  \n",
       "1                        [Chinese]  \n",
       "2         [Chinese, Noodles, Soup]  \n",
       "3                        [Chinese]  \n",
       "4    [Seafood, Cantonese, Dim Sum]  \n",
       "..                             ...  \n",
       "491         [Italian, Salad, Soup]  \n",
       "492          [Indian, Vegan, Soup]  \n",
       "493         [Italian, Salad, Soup]  \n",
       "494      [Sandwiches, Salad, Soup]  \n",
       "495                         [Thai]  \n",
       "\n",
       "[496 rows x 8 columns]"
      ]
     },
     "execution_count": 607,
     "metadata": {},
     "output_type": "execute_result"
    }
   ],
   "source": [
    "all_info = all_results[['name', 'id', 'review_count', 'rating', 'latitude', 'longitude', 'address','category']]\n",
    "all_info"
   ]
  },
  {
   "cell_type": "code",
   "execution_count": null,
   "id": "134d9b38",
   "metadata": {},
   "outputs": [],
   "source": []
  },
  {
   "cell_type": "markdown",
   "id": "88cff225",
   "metadata": {},
   "source": [
    "# open time"
   ]
  },
  {
   "cell_type": "code",
   "execution_count": 354,
   "id": "5dcca082",
   "metadata": {
    "ExecuteTime": {
     "end_time": "2024-03-21T01:43:24.504509Z",
     "start_time": "2024-03-21T01:43:24.501218Z"
    }
   },
   "outputs": [],
   "source": [
    "api_buss = 'https://api.yelp.com/v3/businesses/' + buss_id\n",
    "key4 = 'j8Q2sqYK3mLSJxATCqSUyvMUxfRHURDoIMdRJ6V-G8WohBcs9hEsXa1kHeLbOyZCwvFRGvOVlSUdQLHQVUu1OMKKFTAS6sRTQh6syLSP0UHSwxj4yNrduxWkOFPuZXYx'\n",
    "headers = {\n",
    "    'Authorization': f'Bearer {key4}'\n",
    "}"
   ]
  },
  {
   "cell_type": "code",
   "execution_count": 356,
   "id": "8245bb9f",
   "metadata": {
    "ExecuteTime": {
     "end_time": "2024-03-21T01:56:19.993978Z",
     "start_time": "2024-03-21T01:44:20.142182Z"
    },
    "collapsed": true
   },
   "outputs": [
    {
     "name": "stdout",
     "output_type": "stream",
     "text": [
      "gBvWiu-2aW7nJyM7F1ayYg\n",
      "403\n",
      "hZsVSt1RqN-DH1COT9ZEEg\n",
      "403\n",
      "0j2d8A-W5F0DzUMmSXQjLQ\n",
      "403\n",
      "M6l6Csedbr4Q-VHQ0FayCg\n",
      "403\n",
      "ovRKM_ah5Q--Ur44Bb-pnw\n",
      "403\n",
      "e6iug3vEpAGdGt97Gs1yZQ\n",
      "403\n",
      "dDFRLX-52hcL0hwHCh6TRQ\n",
      "403\n",
      "Ht_UU6rHlakRLxe-1JiR_g\n",
      "403\n",
      "vj8iMqK745cMFCDDgVmkbA\n",
      "403\n",
      "nzrdJuskhpCnbRfIK_rceg\n",
      "403\n",
      "sFd7MROvLxkzXdtlP04YoA\n",
      "403\n",
      "k6Y3A43S_Q76nXCTcsXPIw\n",
      "403\n",
      "DvgVuTuRdrui1n1I-e4ClQ\n",
      "403\n"
     ]
    }
   ],
   "source": [
    "open_time = []\n",
    "for buss_id in all_info['id']:\n",
    "    api_buss = 'https://api.yelp.com/v3/businesses/' + buss_id\n",
    "    response = requests.get(api_buss, headers=headers)\n",
    "    time.sleep(1)\n",
    "    if response.status_code == 200:\n",
    "        data = response.json()\n",
    "        name = data['name']\n",
    "#         review_count = data['review_count']\n",
    "#         rating = data['rating']\n",
    "#         address2 = data['location']['address2']\n",
    "#         if address2:\n",
    "#             address = data['location']['address1'] + \" \" + data['location']['address2'] + \" \" + data['location']['city']\n",
    "#         else:\n",
    "#             address = data['location']['address1'] + \" \" + data['location']['city']\n",
    "        open_day = []\n",
    "        hours = re.findall(r'hours', response.text)\n",
    "        if hours:\n",
    "            for i in data['hours'][0]['open']:\n",
    "#             is_overnight = i['is_overnight']\n",
    "#             start = i['start']\n",
    "#             end = i['end']\n",
    "                day = i['day']\n",
    "                open_day.append(day)\n",
    "        else:\n",
    "            open_day.append('Na')\n",
    "#             print(buss_id)\n",
    "        open_time.append(list(set(open_day)))\n",
    "\n",
    "    else:\n",
    "        open_time.append(['Na'])\n",
    "        print(buss_id)\n",
    "        print(response.status_code)"
   ]
  },
  {
   "cell_type": "code",
   "execution_count": 608,
   "id": "0614df63",
   "metadata": {
    "ExecuteTime": {
     "end_time": "2024-03-21T04:24:49.391999Z",
     "start_time": "2024-03-21T04:24:49.369019Z"
    }
   },
   "outputs": [
    {
     "data": {
      "text/html": [
       "<div>\n",
       "<style scoped>\n",
       "    .dataframe tbody tr th:only-of-type {\n",
       "        vertical-align: middle;\n",
       "    }\n",
       "\n",
       "    .dataframe tbody tr th {\n",
       "        vertical-align: top;\n",
       "    }\n",
       "\n",
       "    .dataframe thead th {\n",
       "        text-align: right;\n",
       "    }\n",
       "</style>\n",
       "<table border=\"1\" class=\"dataframe\">\n",
       "  <thead>\n",
       "    <tr style=\"text-align: right;\">\n",
       "      <th></th>\n",
       "      <th>name</th>\n",
       "      <th>id</th>\n",
       "      <th>review_count</th>\n",
       "      <th>rating</th>\n",
       "      <th>lat</th>\n",
       "      <th>lon</th>\n",
       "      <th>address</th>\n",
       "      <th>category</th>\n",
       "      <th>open_time</th>\n",
       "    </tr>\n",
       "  </thead>\n",
       "  <tbody>\n",
       "    <tr>\n",
       "      <th>0</th>\n",
       "      <td>Fortune Chinese Food</td>\n",
       "      <td>uTqmKshAoHYHISPE7n6bNQ</td>\n",
       "      <td>455</td>\n",
       "      <td>4.4</td>\n",
       "      <td>38.541448</td>\n",
       "      <td>-121.474960</td>\n",
       "      <td>2805 12th Ave Ste 4 Sacramento</td>\n",
       "      <td>[Chinese]</td>\n",
       "      <td>[1, 2, 3, 4, 5, 6]</td>\n",
       "    </tr>\n",
       "    <tr>\n",
       "      <th>1</th>\n",
       "      <td>Jade Garden</td>\n",
       "      <td>-DjZjrHcelHAvMKkUHNALA</td>\n",
       "      <td>97</td>\n",
       "      <td>4.3</td>\n",
       "      <td>38.548174</td>\n",
       "      <td>-121.358335</td>\n",
       "      <td>9185 Kiefer Blvd Sacramento</td>\n",
       "      <td>[Chinese]</td>\n",
       "      <td>[1, 2, 3, 4, 5, 6]</td>\n",
       "    </tr>\n",
       "    <tr>\n",
       "      <th>2</th>\n",
       "      <td>Journey to the Dumpling - Midtown</td>\n",
       "      <td>awbNonET06fRkvg6ERysTA</td>\n",
       "      <td>265</td>\n",
       "      <td>4.3</td>\n",
       "      <td>38.568450</td>\n",
       "      <td>-121.482190</td>\n",
       "      <td>1700 21st St Sacramento</td>\n",
       "      <td>[Chinese, Noodles, Soup]</td>\n",
       "      <td>[0, 1, 2, 3, 4, 5, 6]</td>\n",
       "    </tr>\n",
       "    <tr>\n",
       "      <th>3</th>\n",
       "      <td>T &amp; Z Chinese Restaurant</td>\n",
       "      <td>uSh45fmNiQz7x4l-zF0ixA</td>\n",
       "      <td>551</td>\n",
       "      <td>4.4</td>\n",
       "      <td>38.612947</td>\n",
       "      <td>-121.519422</td>\n",
       "      <td>2550 W El Camino Ave Ste 8 Sacramento</td>\n",
       "      <td>[Chinese]</td>\n",
       "      <td>[0, 2, 3, 4, 5, 6]</td>\n",
       "    </tr>\n",
       "    <tr>\n",
       "      <th>4</th>\n",
       "      <td>Yue Huang</td>\n",
       "      <td>tjBXGjWKllYhy8DHPhI-0Q</td>\n",
       "      <td>1174</td>\n",
       "      <td>3.6</td>\n",
       "      <td>38.638447</td>\n",
       "      <td>-121.503844</td>\n",
       "      <td>3860 Truxel Rd Sacramento</td>\n",
       "      <td>[Seafood, Cantonese, Dim Sum]</td>\n",
       "      <td>[0, 1, 2, 3, 4, 5, 6]</td>\n",
       "    </tr>\n",
       "    <tr>\n",
       "      <th>5</th>\n",
       "      <td>Hidden Dumpling House Midtown</td>\n",
       "      <td>8lq7XpBXsIbSFEi5TLzAjg</td>\n",
       "      <td>325</td>\n",
       "      <td>4.0</td>\n",
       "      <td>38.567359</td>\n",
       "      <td>-121.471809</td>\n",
       "      <td>2801 P St Sacramento</td>\n",
       "      <td>[Chinese, Noodles, Bubble Tea]</td>\n",
       "      <td>[0, 1, 2, 3, 4, 5, 6]</td>\n",
       "    </tr>\n",
       "    <tr>\n",
       "      <th>6</th>\n",
       "      <td>Chef Bo</td>\n",
       "      <td>AmMdJ61S2yljki10d5EsTA</td>\n",
       "      <td>471</td>\n",
       "      <td>3.8</td>\n",
       "      <td>38.573623</td>\n",
       "      <td>-121.410413</td>\n",
       "      <td>2310 Fair Oaks Blvd Ste A Sacramento</td>\n",
       "      <td>[Chinese]</td>\n",
       "      <td>[0, 1, 2, 3, 4, 5]</td>\n",
       "    </tr>\n",
       "    <tr>\n",
       "      <th>7</th>\n",
       "      <td>Old Gui Lin</td>\n",
       "      <td>EvKjZ-0uMNai9fnkOFCqfg</td>\n",
       "      <td>61</td>\n",
       "      <td>4.3</td>\n",
       "      <td>38.527290</td>\n",
       "      <td>-121.496010</td>\n",
       "      <td>5131 Freeport Blvd Sacramento</td>\n",
       "      <td>[Chinese, Noodles]</td>\n",
       "      <td>[0, 1, 2, 3, 4, 5, 6]</td>\n",
       "    </tr>\n",
       "    <tr>\n",
       "      <th>8</th>\n",
       "      <td>Frank Fat's</td>\n",
       "      <td>gYogsRwJcr8onx7-dzAjvQ</td>\n",
       "      <td>1024</td>\n",
       "      <td>4.1</td>\n",
       "      <td>38.578400</td>\n",
       "      <td>-121.496840</td>\n",
       "      <td>806 L St Sacramento</td>\n",
       "      <td>[Chinese]</td>\n",
       "      <td>[1, 2, 3, 4, 5, 6]</td>\n",
       "    </tr>\n",
       "    <tr>\n",
       "      <th>9</th>\n",
       "      <td>The Flame Cafe</td>\n",
       "      <td>DI4X4NijlmrbA_i80QHsbw</td>\n",
       "      <td>477</td>\n",
       "      <td>4.5</td>\n",
       "      <td>38.494761</td>\n",
       "      <td>-121.456720</td>\n",
       "      <td>4220 Florin Rd Ste 107 Sacramento</td>\n",
       "      <td>[Hong Kong Style Cafe, Chinese]</td>\n",
       "      <td>[0, 1, 3, 4, 5, 6]</td>\n",
       "    </tr>\n",
       "  </tbody>\n",
       "</table>\n",
       "</div>"
      ],
      "text/plain": [
       "                                name                      id  review_count  \\\n",
       "0               Fortune Chinese Food  uTqmKshAoHYHISPE7n6bNQ           455   \n",
       "1                        Jade Garden  -DjZjrHcelHAvMKkUHNALA            97   \n",
       "2  Journey to the Dumpling - Midtown  awbNonET06fRkvg6ERysTA           265   \n",
       "3           T & Z Chinese Restaurant  uSh45fmNiQz7x4l-zF0ixA           551   \n",
       "4                          Yue Huang  tjBXGjWKllYhy8DHPhI-0Q          1174   \n",
       "5      Hidden Dumpling House Midtown  8lq7XpBXsIbSFEi5TLzAjg           325   \n",
       "6                            Chef Bo  AmMdJ61S2yljki10d5EsTA           471   \n",
       "7                        Old Gui Lin  EvKjZ-0uMNai9fnkOFCqfg            61   \n",
       "8                        Frank Fat's  gYogsRwJcr8onx7-dzAjvQ          1024   \n",
       "9                     The Flame Cafe  DI4X4NijlmrbA_i80QHsbw           477   \n",
       "\n",
       "   rating        lat         lon                                address  \\\n",
       "0     4.4  38.541448 -121.474960         2805 12th Ave Ste 4 Sacramento   \n",
       "1     4.3  38.548174 -121.358335            9185 Kiefer Blvd Sacramento   \n",
       "2     4.3  38.568450 -121.482190                1700 21st St Sacramento   \n",
       "3     4.4  38.612947 -121.519422  2550 W El Camino Ave Ste 8 Sacramento   \n",
       "4     3.6  38.638447 -121.503844              3860 Truxel Rd Sacramento   \n",
       "5     4.0  38.567359 -121.471809                   2801 P St Sacramento   \n",
       "6     3.8  38.573623 -121.410413   2310 Fair Oaks Blvd Ste A Sacramento   \n",
       "7     4.3  38.527290 -121.496010          5131 Freeport Blvd Sacramento   \n",
       "8     4.1  38.578400 -121.496840                    806 L St Sacramento   \n",
       "9     4.5  38.494761 -121.456720      4220 Florin Rd Ste 107 Sacramento   \n",
       "\n",
       "                          category              open_time  \n",
       "0                        [Chinese]     [1, 2, 3, 4, 5, 6]  \n",
       "1                        [Chinese]     [1, 2, 3, 4, 5, 6]  \n",
       "2         [Chinese, Noodles, Soup]  [0, 1, 2, 3, 4, 5, 6]  \n",
       "3                        [Chinese]     [0, 2, 3, 4, 5, 6]  \n",
       "4    [Seafood, Cantonese, Dim Sum]  [0, 1, 2, 3, 4, 5, 6]  \n",
       "5   [Chinese, Noodles, Bubble Tea]  [0, 1, 2, 3, 4, 5, 6]  \n",
       "6                        [Chinese]     [0, 1, 2, 3, 4, 5]  \n",
       "7               [Chinese, Noodles]  [0, 1, 2, 3, 4, 5, 6]  \n",
       "8                        [Chinese]     [1, 2, 3, 4, 5, 6]  \n",
       "9  [Hong Kong Style Cafe, Chinese]     [0, 1, 3, 4, 5, 6]  "
      ]
     },
     "execution_count": 608,
     "metadata": {},
     "output_type": "execute_result"
    }
   ],
   "source": [
    "open_time1 = []\n",
    "for i in open_time:\n",
    "    open_time1.append({'open_time':i})\n",
    "open_time1 = pd.DataFrame(open_time1)\n",
    "\n",
    "all_info = pd.concat([all_info, open_time1], axis=1)\n",
    "# all_info.rename(columns={'name':'Name', 'id':'ID', 'review_count': 'Reviewed', 'rating':'Rating', 'latitude':'Latitude', 'longitude':'Longitude', 'address':'Address', 'category':'Categories', 'open_time':'Open_days'}, inplace=True)\n",
    "all_info.rename(columns={'latitude':'lat', 'longitude':'lon'}, inplace=True)\n",
    "all_info[0:10]"
   ]
  },
  {
   "cell_type": "code",
   "execution_count": null,
   "id": "3e732478",
   "metadata": {},
   "outputs": [],
   "source": []
  },
  {
   "cell_type": "markdown",
   "id": "868f9add",
   "metadata": {},
   "source": [
    "# Get address and Rate"
   ]
  },
  {
   "cell_type": "code",
   "execution_count": 10,
   "id": "ec93bf17",
   "metadata": {
    "ExecuteTime": {
     "end_time": "2024-03-20T06:21:39.567831Z",
     "start_time": "2024-03-20T06:21:39.499849Z"
    }
   },
   "outputs": [],
   "source": [
    "# address_rate = []\n",
    "\n",
    "# for i in range(len(all_results)):\n",
    "#     info = pd.DataFrame(all_results['location'][i])\n",
    "#     address1 = info['address1'][0]\n",
    "#     rating = all_results['rating'][0]\n",
    "#     if address1:\n",
    "#         address_rate.append({\"address\":address1+\" \"+\"Sacramento\"})"
   ]
  },
  {
   "cell_type": "code",
   "execution_count": 524,
   "id": "348f3b4a",
   "metadata": {
    "ExecuteTime": {
     "end_time": "2024-03-21T04:03:21.045214Z",
     "start_time": "2024-03-21T04:03:21.040983Z"
    }
   },
   "outputs": [],
   "source": [
    "# address_rate = pd.DataFrame(address_rate)\n",
    "# address_rate"
   ]
  },
  {
   "cell_type": "code",
   "execution_count": null,
   "id": "b3241f21",
   "metadata": {},
   "outputs": [],
   "source": []
  },
  {
   "cell_type": "markdown",
   "id": "9d9d8764",
   "metadata": {},
   "source": [
    "## Get Latitude and Lontitude Information from Address"
   ]
  },
  {
   "cell_type": "markdown",
   "id": "5efafb10",
   "metadata": {},
   "source": [
    "### nominatim"
   ]
  },
  {
   "cell_type": "code",
   "execution_count": 525,
   "id": "ee5fafc3",
   "metadata": {
    "ExecuteTime": {
     "end_time": "2024-03-21T04:03:24.235813Z",
     "start_time": "2024-03-21T04:03:24.231736Z"
    }
   },
   "outputs": [],
   "source": [
    "# url_location = 'https://nominatim.openstreetmap.org/search'\n",
    "# response = requests.get(url_location)\n",
    "# response.status_code"
   ]
  },
  {
   "cell_type": "code",
   "execution_count": 526,
   "id": "399025d3",
   "metadata": {
    "ExecuteTime": {
     "end_time": "2024-03-21T04:03:24.831418Z",
     "start_time": "2024-03-21T04:03:24.828851Z"
    }
   },
   "outputs": [],
   "source": [
    "# params = {\n",
    "#         \"q\": address_rate['address'][1]+',CA',\n",
    "#         \"format\":\"json\",\n",
    "#         \"limit\":1\n",
    "#         }\n",
    "# response = requests.get(url_location, params)\n",
    "# response.status_code"
   ]
  },
  {
   "cell_type": "code",
   "execution_count": 527,
   "id": "f0f4e80c",
   "metadata": {
    "ExecuteTime": {
     "end_time": "2024-03-21T04:03:26.407761Z",
     "start_time": "2024-03-21T04:03:26.404942Z"
    }
   },
   "outputs": [],
   "source": [
    "# coordination = []\n",
    "# for i in range(len(address_rate[0:10])):\n",
    "#     time.sleep(0.2)\n",
    "#     params = {\n",
    "#         \"q\": address_rate['address'][i]+',CA',\n",
    "#         \"format\":\"json\",\n",
    "#         \"limit\":1\n",
    "#         }\n",
    "#     response = requests.get(url_location, params)\n",
    "#     if response.status_code == 200:\n",
    "#         result = response.json()\n",
    "#         if result:\n",
    "#             lat = float(result[0].get(\"lat\", []))\n",
    "#             lon = float(result[0].get(\"lon\", []))\n",
    "#             coordination.append({\"name\": all_results['name'][i], \"rate\":all_results['rating'][i], \"lat\":lat, \"lon\":lon, \"review_count\":all_results['review_count'][i]})"
   ]
  },
  {
   "cell_type": "markdown",
   "id": "9daf1f96",
   "metadata": {},
   "source": [
    "### opencage"
   ]
  },
  {
   "cell_type": "code",
   "execution_count": 105,
   "id": "9d0e9da9",
   "metadata": {
    "ExecuteTime": {
     "end_time": "2024-03-20T08:55:25.089218Z",
     "start_time": "2024-03-20T08:55:25.086470Z"
    }
   },
   "outputs": [],
   "source": [
    "# api_key = '75bf8535ebdb4cc8a7b48a21ade3b0f5'\n",
    "# url_location = 'https://api.opencagedata.com/geocode/v1/json'"
   ]
  },
  {
   "cell_type": "code",
   "execution_count": 51,
   "id": "d9427eec",
   "metadata": {
    "ExecuteTime": {
     "end_time": "2024-03-20T07:32:34.135044Z",
     "start_time": "2024-03-20T07:32:33.149559Z"
    }
   },
   "outputs": [],
   "source": [
    "# params = {\n",
    "#     'q': '9185 Kiefer Blvd Sacramento',  \n",
    "#     'key': api_key,  # API密钥\n",
    "#     'limit': 1  # 返回结果的最大数量\n",
    "# }\n",
    "# response = requests.get(url, params=params)"
   ]
  },
  {
   "cell_type": "code",
   "execution_count": 52,
   "id": "73c24ee4",
   "metadata": {
    "ExecuteTime": {
     "end_time": "2024-03-20T07:32:37.889507Z",
     "start_time": "2024-03-20T07:32:37.885643Z"
    }
   },
   "outputs": [],
   "source": [
    "# def dms_to_dd(dms):\n",
    "#     degrees, minutes, seconds, direction = re.split('[°\\'\"]+', dms)\n",
    "#     dd = float(degrees) + float(minutes)/60 + float(seconds)/(60*60)\n",
    "#     if direction in ('S', 'W'):\n",
    "#         dd *= -1\n",
    "#     return dd"
   ]
  },
  {
   "cell_type": "code",
   "execution_count": 112,
   "id": "bbf23aa7",
   "metadata": {
    "ExecuteTime": {
     "end_time": "2024-03-20T09:06:04.061789Z",
     "start_time": "2024-03-20T08:57:00.414975Z"
    }
   },
   "outputs": [],
   "source": [
    "# coordination = []\n",
    "# for i in range(len(address_rate)):\n",
    "#     time.sleep(0.1)\n",
    "#     params = {\n",
    "#         'q': address_rate['address'][i]+',CA', \n",
    "#         'key': api_key,\n",
    "#         'limit': 1\n",
    "#     }\n",
    "#     response = requests.get(url_location, params)\n",
    "#     if response.status_code == 200:\n",
    "#         result = response.json()\n",
    "#         if result:\n",
    "#             lat = result['results'][0]['annotations']['DMS']['lat']\n",
    "#             lon = result['results'][0]['annotations']['DMS']['lng']\n",
    "#             lat_dd = dms_to_dd(lat)\n",
    "#             lon_dd = dms_to_dd(lon)\n",
    "#             coordination.append({\"name\": all_results['name'][i], \"rate\":all_results['rating'][i], \"lat\":lat_dd, \"lon\":-lon_dd, \"review_count\":all_results['review_count'][i]})\n",
    "# #             print(i)\n",
    "#     else:\n",
    "#         print(\"request faild\", response.status_code)"
   ]
  },
  {
   "cell_type": "code",
   "execution_count": 528,
   "id": "1a98e04a",
   "metadata": {
    "ExecuteTime": {
     "end_time": "2024-03-21T04:04:04.905864Z",
     "start_time": "2024-03-21T04:04:04.903482Z"
    }
   },
   "outputs": [],
   "source": [
    "# coordination = pd.DataFrame(coordination)\n",
    "# coordination"
   ]
  },
  {
   "cell_type": "code",
   "execution_count": null,
   "id": "5a803e6a",
   "metadata": {},
   "outputs": [],
   "source": []
  },
  {
   "cell_type": "code",
   "execution_count": 491,
   "id": "0957ec21",
   "metadata": {
    "ExecuteTime": {
     "end_time": "2024-03-21T03:41:52.542200Z",
     "start_time": "2024-03-21T03:41:52.522293Z"
    }
   },
   "outputs": [
    {
     "data": {
      "text/html": [
       "<div>\n",
       "<style scoped>\n",
       "    .dataframe tbody tr th:only-of-type {\n",
       "        vertical-align: middle;\n",
       "    }\n",
       "\n",
       "    .dataframe tbody tr th {\n",
       "        vertical-align: top;\n",
       "    }\n",
       "\n",
       "    .dataframe thead th {\n",
       "        text-align: right;\n",
       "    }\n",
       "</style>\n",
       "<table border=\"1\" class=\"dataframe\">\n",
       "  <thead>\n",
       "    <tr style=\"text-align: right;\">\n",
       "      <th></th>\n",
       "      <th>name</th>\n",
       "      <th>id</th>\n",
       "      <th>review_count</th>\n",
       "      <th>rating</th>\n",
       "      <th>lat</th>\n",
       "      <th>lon</th>\n",
       "      <th>address</th>\n",
       "      <th>category</th>\n",
       "      <th>open_time</th>\n",
       "    </tr>\n",
       "  </thead>\n",
       "  <tbody>\n",
       "    <tr>\n",
       "      <th>0</th>\n",
       "      <td>Fortune Chinese Food</td>\n",
       "      <td>uTqmKshAoHYHISPE7n6bNQ</td>\n",
       "      <td>455</td>\n",
       "      <td>4.4</td>\n",
       "      <td>38.541448</td>\n",
       "      <td>-121.474960</td>\n",
       "      <td>2805 12th Ave Ste 4 Sacramento</td>\n",
       "      <td>[Chinese]</td>\n",
       "      <td>[1, 2, 3, 4, 5, 6]</td>\n",
       "    </tr>\n",
       "    <tr>\n",
       "      <th>1</th>\n",
       "      <td>Jade Garden</td>\n",
       "      <td>-DjZjrHcelHAvMKkUHNALA</td>\n",
       "      <td>97</td>\n",
       "      <td>4.3</td>\n",
       "      <td>38.548174</td>\n",
       "      <td>-121.358335</td>\n",
       "      <td>9185 Kiefer Blvd Sacramento</td>\n",
       "      <td>[Chinese]</td>\n",
       "      <td>[1, 2, 3, 4, 5, 6]</td>\n",
       "    </tr>\n",
       "    <tr>\n",
       "      <th>2</th>\n",
       "      <td>Journey to the Dumpling - Midtown</td>\n",
       "      <td>awbNonET06fRkvg6ERysTA</td>\n",
       "      <td>265</td>\n",
       "      <td>4.3</td>\n",
       "      <td>38.568450</td>\n",
       "      <td>-121.482190</td>\n",
       "      <td>1700 21st St Sacramento</td>\n",
       "      <td>[Chinese, Noodles, Soup]</td>\n",
       "      <td>[0, 1, 2, 3, 4, 5, 6]</td>\n",
       "    </tr>\n",
       "    <tr>\n",
       "      <th>3</th>\n",
       "      <td>T &amp; Z Chinese Restaurant</td>\n",
       "      <td>uSh45fmNiQz7x4l-zF0ixA</td>\n",
       "      <td>551</td>\n",
       "      <td>4.4</td>\n",
       "      <td>38.612947</td>\n",
       "      <td>-121.519422</td>\n",
       "      <td>2550 W El Camino Ave Ste 8 Sacramento</td>\n",
       "      <td>[Chinese]</td>\n",
       "      <td>[0, 2, 3, 4, 5, 6]</td>\n",
       "    </tr>\n",
       "    <tr>\n",
       "      <th>4</th>\n",
       "      <td>Yue Huang</td>\n",
       "      <td>tjBXGjWKllYhy8DHPhI-0Q</td>\n",
       "      <td>1174</td>\n",
       "      <td>3.6</td>\n",
       "      <td>38.638447</td>\n",
       "      <td>-121.503844</td>\n",
       "      <td>3860 Truxel Rd Sacramento</td>\n",
       "      <td>[Seafood, Cantonese, Dim Sum]</td>\n",
       "      <td>[0, 1, 2, 3, 4, 5, 6]</td>\n",
       "    </tr>\n",
       "    <tr>\n",
       "      <th>...</th>\n",
       "      <td>...</td>\n",
       "      <td>...</td>\n",
       "      <td>...</td>\n",
       "      <td>...</td>\n",
       "      <td>...</td>\n",
       "      <td>...</td>\n",
       "      <td>...</td>\n",
       "      <td>...</td>\n",
       "      <td>...</td>\n",
       "    </tr>\n",
       "    <tr>\n",
       "      <th>491</th>\n",
       "      <td>Olive Garden Italian Restaurant</td>\n",
       "      <td>cMACJTd-jI596Fn9xixkxQ</td>\n",
       "      <td>486</td>\n",
       "      <td>2.9</td>\n",
       "      <td>38.666110</td>\n",
       "      <td>-121.272606</td>\n",
       "      <td>5445 Sunrise Blvd Sacramento</td>\n",
       "      <td>[Italian, Salad, Soup]</td>\n",
       "      <td>[0, 1, 2, 3, 4, 5, 6]</td>\n",
       "    </tr>\n",
       "    <tr>\n",
       "      <th>492</th>\n",
       "      <td>Preethi Indian Cuisine</td>\n",
       "      <td>ENmi2GlUjrm8A5nKTv-czA</td>\n",
       "      <td>372</td>\n",
       "      <td>3.7</td>\n",
       "      <td>38.543662</td>\n",
       "      <td>-121.739428</td>\n",
       "      <td>715 2nd St Sacramento</td>\n",
       "      <td>[Indian, Vegan, Soup]</td>\n",
       "      <td>[0, 1, 2, 3, 4, 5, 6]</td>\n",
       "    </tr>\n",
       "    <tr>\n",
       "      <th>493</th>\n",
       "      <td>Olive Garden Italian Restaurant</td>\n",
       "      <td>5iXkCdDM1IlWWTVWSwdO3w</td>\n",
       "      <td>498</td>\n",
       "      <td>3.4</td>\n",
       "      <td>38.770871</td>\n",
       "      <td>-121.265159</td>\n",
       "      <td>1160 Galleria Blvd Sacramento</td>\n",
       "      <td>[Italian, Salad, Soup]</td>\n",
       "      <td>[0, 1, 2, 3, 4, 5, 6]</td>\n",
       "    </tr>\n",
       "    <tr>\n",
       "      <th>494</th>\n",
       "      <td>Panera Bread</td>\n",
       "      <td>lQErN-2_H0PcNJIfOxCtlA</td>\n",
       "      <td>404</td>\n",
       "      <td>3.1</td>\n",
       "      <td>38.424826</td>\n",
       "      <td>-121.387587</td>\n",
       "      <td>8519 Bond Rd Ste 106 Sacramento</td>\n",
       "      <td>[Sandwiches, Salad, Soup]</td>\n",
       "      <td>[0, 1, 2, 3, 4, 5, 6]</td>\n",
       "    </tr>\n",
       "    <tr>\n",
       "      <th>495</th>\n",
       "      <td>Ruby Thai Kitchen</td>\n",
       "      <td>TUm7yOEhoUydeQGpikdxpQ</td>\n",
       "      <td>89</td>\n",
       "      <td>2.2</td>\n",
       "      <td>38.773442</td>\n",
       "      <td>-121.269285</td>\n",
       "      <td>1151 Galleria Blvd Sacramento</td>\n",
       "      <td>[Thai]</td>\n",
       "      <td>[Na]</td>\n",
       "    </tr>\n",
       "  </tbody>\n",
       "</table>\n",
       "<p>496 rows × 9 columns</p>\n",
       "</div>"
      ],
      "text/plain": [
       "                                  name                      id  review_count  \\\n",
       "0                 Fortune Chinese Food  uTqmKshAoHYHISPE7n6bNQ           455   \n",
       "1                          Jade Garden  -DjZjrHcelHAvMKkUHNALA            97   \n",
       "2    Journey to the Dumpling - Midtown  awbNonET06fRkvg6ERysTA           265   \n",
       "3             T & Z Chinese Restaurant  uSh45fmNiQz7x4l-zF0ixA           551   \n",
       "4                            Yue Huang  tjBXGjWKllYhy8DHPhI-0Q          1174   \n",
       "..                                 ...                     ...           ...   \n",
       "491    Olive Garden Italian Restaurant  cMACJTd-jI596Fn9xixkxQ           486   \n",
       "492             Preethi Indian Cuisine  ENmi2GlUjrm8A5nKTv-czA           372   \n",
       "493    Olive Garden Italian Restaurant  5iXkCdDM1IlWWTVWSwdO3w           498   \n",
       "494                       Panera Bread  lQErN-2_H0PcNJIfOxCtlA           404   \n",
       "495                  Ruby Thai Kitchen  TUm7yOEhoUydeQGpikdxpQ            89   \n",
       "\n",
       "     rating        lat         lon                                address  \\\n",
       "0       4.4  38.541448 -121.474960         2805 12th Ave Ste 4 Sacramento   \n",
       "1       4.3  38.548174 -121.358335            9185 Kiefer Blvd Sacramento   \n",
       "2       4.3  38.568450 -121.482190                1700 21st St Sacramento   \n",
       "3       4.4  38.612947 -121.519422  2550 W El Camino Ave Ste 8 Sacramento   \n",
       "4       3.6  38.638447 -121.503844              3860 Truxel Rd Sacramento   \n",
       "..      ...        ...         ...                                    ...   \n",
       "491     2.9  38.666110 -121.272606           5445 Sunrise Blvd Sacramento   \n",
       "492     3.7  38.543662 -121.739428                  715 2nd St Sacramento   \n",
       "493     3.4  38.770871 -121.265159          1160 Galleria Blvd Sacramento   \n",
       "494     3.1  38.424826 -121.387587        8519 Bond Rd Ste 106 Sacramento   \n",
       "495     2.2  38.773442 -121.269285          1151 Galleria Blvd Sacramento   \n",
       "\n",
       "                          category              open_time  \n",
       "0                        [Chinese]     [1, 2, 3, 4, 5, 6]  \n",
       "1                        [Chinese]     [1, 2, 3, 4, 5, 6]  \n",
       "2         [Chinese, Noodles, Soup]  [0, 1, 2, 3, 4, 5, 6]  \n",
       "3                        [Chinese]     [0, 2, 3, 4, 5, 6]  \n",
       "4    [Seafood, Cantonese, Dim Sum]  [0, 1, 2, 3, 4, 5, 6]  \n",
       "..                             ...                    ...  \n",
       "491         [Italian, Salad, Soup]  [0, 1, 2, 3, 4, 5, 6]  \n",
       "492          [Indian, Vegan, Soup]  [0, 1, 2, 3, 4, 5, 6]  \n",
       "493         [Italian, Salad, Soup]  [0, 1, 2, 3, 4, 5, 6]  \n",
       "494      [Sandwiches, Salad, Soup]  [0, 1, 2, 3, 4, 5, 6]  \n",
       "495                         [Thai]                   [Na]  \n",
       "\n",
       "[496 rows x 9 columns]"
      ]
     },
     "execution_count": 491,
     "metadata": {},
     "output_type": "execute_result"
    }
   ],
   "source": [
    "all_info"
   ]
  },
  {
   "cell_type": "code",
   "execution_count": 609,
   "id": "9fc61f61",
   "metadata": {
    "ExecuteTime": {
     "end_time": "2024-03-21T04:24:54.187735Z",
     "start_time": "2024-03-21T04:24:54.179381Z"
    }
   },
   "outputs": [],
   "source": [
    "all_info1 = all_info[abs(all_info['lat']-all_info['lat'].mean())>1*sqrt(all_info['lat'].var())]\n",
    "all_info2 = all_info[abs(all_info['lat']-all_info['lat'].mean())<1*sqrt(all_info['lat'].var())]"
   ]
  },
  {
   "cell_type": "code",
   "execution_count": null,
   "id": "5e86e310",
   "metadata": {},
   "outputs": [],
   "source": []
  },
  {
   "cell_type": "markdown",
   "id": "d1c86b81",
   "metadata": {},
   "source": [
    "## Add review count into threshold"
   ]
  },
  {
   "cell_type": "code",
   "execution_count": 611,
   "id": "be01d9f1",
   "metadata": {
    "ExecuteTime": {
     "end_time": "2024-03-21T04:26:06.170467Z",
     "start_time": "2024-03-21T04:26:06.164005Z"
    }
   },
   "outputs": [],
   "source": [
    "def haversine(lon1, lat1, lon2, lat2):\n",
    "    \"\"\"\n",
    "    Calculate the great circle distance in kilometers between two points \n",
    "    on the earth (specified in decimal degrees)\n",
    "    \"\"\"\n",
    "    lon1, lat1, lon2, lat2 = map(radians, [lon1, lat1, lon2, lat2])\n",
    "    dlon = lon2 - lon1 \n",
    "    dlat = lat2 - lat1 \n",
    "    a = sin(dlat/2)**2 + cos(lat1) * cos(lat2) * sin(dlon/2)**2\n",
    "    c = 2 * asin(sqrt(a))\n",
    "    r = 6371\n",
    "    return c * r\n",
    "\n",
    "def adjust_zoom(df_filtered):\n",
    "    max_distance = 0\n",
    "    for i in range(len(df_filtered)):\n",
    "        for j in range(i+1, len(df_filtered)):\n",
    "            distance = haversine(df_filtered.iloc[i]['lon'], df_filtered.iloc[i]['lat'],\n",
    "                                 df_filtered.iloc[j]['lon'], df_filtered.iloc[j]['lat'])\n",
    "            max_distance = max(max_distance, distance)\n",
    "    if max_distance == 0:\n",
    "        return 12\n",
    "    return max(4, round(14 - log(max_distance + 1)))"
   ]
  },
  {
   "cell_type": "code",
   "execution_count": 616,
   "id": "7a71ddc5",
   "metadata": {
    "ExecuteTime": {
     "end_time": "2024-03-21T05:28:43.133125Z",
     "start_time": "2024-03-21T05:28:42.381306Z"
    }
   },
   "outputs": [
    {
     "data": {
      "application/vnd.jupyter.widget-view+json": {
       "model_id": "ec2510af74e244929598f093fd3a4edc",
       "version_major": 2,
       "version_minor": 0
      },
      "text/plain": [
       "interactive(children=(FloatSlider(value=4.0, description='Rating', max=5.0), IntSlider(value=100, description=…"
      ]
     },
     "metadata": {},
     "output_type": "display_data"
    }
   ],
   "source": [
    "def generate_adjusted_map(threshold, threshold2, category_filter, day_filter, df):\n",
    "    df_filtered = df[(df['rating'] >= threshold) & (df['review_count'] >= threshold2)]\n",
    "    if category_filter != 'All':\n",
    "        df_filtered = df_filtered[df_filtered['category'].apply(lambda x: category_filter in x)]\n",
    "    \n",
    "    if day_filter != 'All':\n",
    "        df_filtered = df_filtered[df_filtered['open_time'].apply(lambda x: day_filter in x)]\n",
    "    \n",
    "    center_lat, center_lon = df['lat'].mean(), df['lon'].mean()  # Default center\n",
    "    zoom_level = 12\n",
    "    \n",
    "    if not df_filtered.empty:\n",
    "        center_lat, center_lon = df_filtered['lat'].mean(), df_filtered['lon'].mean()\n",
    "        zoom_level = adjust_zoom(df_filtered)\n",
    "    \n",
    "    m = folium.Map(location=[center_lat, center_lon], zoom_start=zoom_level)\n",
    "    \n",
    "    if df_filtered.empty:\n",
    "        return m\n",
    "\n",
    "    for _, row in df_filtered.iterrows():\n",
    "        icon_size = max(5, (row['rating']*50+row['review_count']) / 100)\n",
    "        folium.CircleMarker(\n",
    "            location=[row['lat'], row['lon']],\n",
    "            radius=icon_size,\n",
    "            popup=f\"{row['name']}, Rating: {row['rating']}, Reviews: {row['review_count']}\",\n",
    "            color='red',\n",
    "            fill=True,\n",
    "        ).add_to(m)\n",
    "    \n",
    "    return m\n",
    "\n",
    "days = [0, 1, 2, 3, 4, 5, 6]\n",
    "days_dropdown = widgets.Dropdown(options=['All'] + days, value='All', description='Day:')\n",
    "\n",
    "@interact\n",
    "def display_map(Rating=widgets.FloatSlider(min=all_info2['rating'].min(), max=all_info2['rating'].max(), step=0.1, value=4.0),\n",
    "                Review=widgets.IntSlider(min=all_info2['review_count'].min(), max=all_info2['review_count'].max(), step=1, value=100),\n",
    "                Category=category_dropdown,\n",
    "                Day=days_dropdown):\n",
    "    return generate_adjusted_map(Rating, Review, Category, Day, all_info2)"
   ]
  },
  {
   "cell_type": "code",
   "execution_count": 612,
   "id": "87690634",
   "metadata": {
    "ExecuteTime": {
     "end_time": "2024-03-21T04:40:53.965250Z",
     "start_time": "2024-03-21T04:40:53.935979Z"
    }
   },
   "outputs": [
    {
     "data": {
      "application/vnd.jupyter.widget-view+json": {
       "model_id": "6ddb889ff651444f955f0b449d714d07",
       "version_major": 2,
       "version_minor": 0
      },
      "text/plain": [
       "interactive(children=(FloatSlider(value=1.9, description='Rating', max=1.9, min=1.9), IntSlider(value=78, desc…"
      ]
     },
     "metadata": {},
     "output_type": "display_data"
    }
   ],
   "source": [
    "@interact\n",
    "def display_map(Rating=widgets.FloatSlider(min=all_info1['rating'].min(), max=all_info1['rating'].max(), step=0.1, value=4.0),\n",
    "                Review=widgets.IntSlider(min=all_info1['review_count'].min(), max=all_info1['review_count'].max(), step=1, value=100),\n",
    "                Category=category_dropdown,\n",
    "                Day=days_dropdown):\n",
    "    return generate_adjusted_map(Rating, Review, Category, Day, all_info1)"
   ]
  },
  {
   "cell_type": "code",
   "execution_count": 613,
   "id": "f63d3d21",
   "metadata": {
    "ExecuteTime": {
     "end_time": "2024-03-21T05:17:36.126803Z",
     "start_time": "2024-03-21T05:17:36.122793Z"
    }
   },
   "outputs": [
    {
     "data": {
      "text/plain": [
       "495"
      ]
     },
     "execution_count": 613,
     "metadata": {},
     "output_type": "execute_result"
    }
   ],
   "source": [
    "len(all_info2)"
   ]
  },
  {
   "cell_type": "code",
   "execution_count": null,
   "id": "fd257e5a",
   "metadata": {},
   "outputs": [],
   "source": []
  },
  {
   "cell_type": "code",
   "execution_count": null,
   "id": "a3f08035",
   "metadata": {},
   "outputs": [],
   "source": []
  },
  {
   "cell_type": "code",
   "execution_count": null,
   "id": "511cd00e",
   "metadata": {},
   "outputs": [],
   "source": []
  }
 ],
 "metadata": {
  "kernelspec": {
   "display_name": "Python 3 (ipykernel)",
   "language": "python",
   "name": "python3"
  },
  "language_info": {
   "codemirror_mode": {
    "name": "ipython",
    "version": 3
   },
   "file_extension": ".py",
   "mimetype": "text/x-python",
   "name": "python",
   "nbconvert_exporter": "python",
   "pygments_lexer": "ipython3",
   "version": "3.11.4"
  },
  "toc": {
   "base_numbering": 1,
   "nav_menu": {},
   "number_sections": true,
   "sideBar": true,
   "skip_h1_title": false,
   "title_cell": "Table of Contents",
   "title_sidebar": "Contents",
   "toc_cell": false,
   "toc_position": {},
   "toc_section_display": true,
   "toc_window_display": false
  },
  "varInspector": {
   "cols": {
    "lenName": 16,
    "lenType": 16,
    "lenVar": 40
   },
   "kernels_config": {
    "python": {
     "delete_cmd_postfix": "",
     "delete_cmd_prefix": "del ",
     "library": "var_list.py",
     "varRefreshCmd": "print(var_dic_list())"
    },
    "r": {
     "delete_cmd_postfix": ") ",
     "delete_cmd_prefix": "rm(",
     "library": "var_list.r",
     "varRefreshCmd": "cat(var_dic_list()) "
    }
   },
   "types_to_exclude": [
    "module",
    "function",
    "builtin_function_or_method",
    "instance",
    "_Feature"
   ],
   "window_display": false
  }
 },
 "nbformat": 4,
 "nbformat_minor": 5
}
